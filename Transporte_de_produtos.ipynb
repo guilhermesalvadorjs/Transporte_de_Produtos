{
 "cells": [
  {
   "cell_type": "markdown",
   "metadata": {},
   "source": [
    "O exercício consiste em MAXIMIZAR o lucro de uma empresa de transportes\n",
    "\n",
    "Cada caminhão possui apenas 3m3 (três metros cubicos) de espaço em seu baú\n",
    "Cada produto possui um nome, um volume (em m3) e um preço\n",
    "É preciso maximizar o lucro em relação ao volume e o transporte não pode ocorrer com mais de 3m3 de itens\n",
    "É preciso implementar a fitness_funcion que retorna o custo de uma solução\n",
    "Você possui apenas um produto de cada para transportar no caminhão\n",
    "Lista de produtos, volume, preço\n",
    "\n",
    "'Refrigerador A', 0.751, 999.90\n",
    "\n",
    "'Refrigerador B', 0.635, 849.00\n",
    "\n",
    "'Refrigerador C', 0.870, 1199.89\n",
    "\n",
    "'Celular', 0.0000899, 2911.12\n",
    "\n",
    "'TV 55', 0.400, 4346.99\n",
    "\n",
    "'TV 50', 0.290, 3999.90\n",
    "\n",
    "'TV 42', 0.200, 2999.00\n",
    "\n",
    "'Ventilador', 0.496, 199.90\n",
    "\n",
    "'Microondas A', 0.0424, 308.66\n",
    "\n",
    "'Microondas B', 0.0544, 429.90\n",
    "\n",
    "'Microondas C', 0.0319, 299.29\n",
    "\n",
    "'Notebook A', 0.00350, 2499.90\n",
    "\n",
    "'Notebook B', 0.498, 1999.90\n",
    "\n",
    "'Notebook C', 0.527, 3999.00"
   ]
  },
  {
   "cell_type": "code",
   "execution_count": 1,
   "metadata": {},
   "outputs": [],
   "source": [
    "import numpy as np\n",
    "import six\n",
    "import sys\n",
    "sys.modules['sklearn.externals.six'] = six\n",
    "import mlrose"
   ]
  },
  {
   "cell_type": "code",
   "execution_count": 2,
   "metadata": {},
   "outputs": [],
   "source": [
    "# Defina a lista de produtos, volume e preço\n",
    "produtos = [\n",
    "    ('Refrigerador A', 0.751, 999.90),\n",
    "    ('Refrigerador B', 0.635, 849.00),\n",
    "    ('Refrigerador C', 0.870, 1199.89),\n",
    "    ('Celular', 0.0000899, 2911.12),\n",
    "    ('TV 55', 0.400, 4346.99),\n",
    "    ('TV 50', 0.290, 3999.90),\n",
    "    ('TV 42', 0.200, 2999.00),\n",
    "    ('Ventilador', 0.496, 199.90),\n",
    "    ('Microondas A', 0.0424, 308.66),\n",
    "    ('Microondas B', 0.0544, 429.90),\n",
    "    ('Microondas C', 0.0319, 299.29),\n",
    "    ('Notebook A', 0.00350, 2499.90),\n",
    "    ('Notebook B', 0.498, 1999.90),\n",
    "    ('Notebook C', 0.527, 3999.00)\n",
    "]\n"
   ]
  },
  {
   "cell_type": "code",
   "execution_count": 3,
   "metadata": {},
   "outputs": [],
   "source": [
    "# Número de produtos\n",
    "num_produtos = len(produtos)\n"
   ]
  },
  {
   "cell_type": "code",
   "execution_count": 4,
   "metadata": {},
   "outputs": [],
   "source": [
    "# Capacidade do caminhão em m^3\n",
    "capacidade_do_caminhao = 3.0\n"
   ]
  },
  {
   "cell_type": "code",
   "execution_count": 5,
   "metadata": {},
   "outputs": [],
   "source": [
    "# Criando um exemplo\n",
    "produtos_exemplo_print = {\n",
    "    'Produto': [\n",
    "        'Refrigerador A', 'Refrigerador B', 'Refrigerador C', 'Celular',\n",
    "        'TV 55', 'TV 50', 'TV 42', 'Ventilador', 'Microondas A', 'Microondas B',\n",
    "        'Microondas C', 'Notebook A', 'Notebook B', 'Notebook C'\n",
    "    ],\n",
    "    'Transportar': [\n",
    "        1, 0, 1, 0, 1, 0, 0, 0, 0, 0, 0, 0, 0, 0\n",
    "    ],\n",
    "    'Volume (m^3)': [\n",
    "        0.751, 0.635, 0.870, 0.0000899, 0.400, 0.290, 0.200, 0.496, 0.0424, 0.0544,\n",
    "        0.0319, 0.00350, 0.498, 0.527\n",
    "    ],\n",
    "    'Preço (R$)': [\n",
    "        999.90, 849.00, 1199.89, 2911.12, 4346.99, 3999.90, 2999.00, 199.90,\n",
    "        308.66, 429.90, 299.29, 2499.90, 1999.90, 3999.00\n",
    "    ]\n",
    "}"
   ]
  },
  {
   "cell_type": "code",
   "execution_count": 6,
   "metadata": {},
   "outputs": [
    {
     "name": "stdout",
     "output_type": "stream",
     "text": [
      "+----------------+-------------+--------------+------------+\n",
      "|    Produto     | Transportar | Volume (m^3) | Preço (R$) |\n",
      "+----------------+-------------+--------------+------------+\n",
      "| Refrigerador A |      1      |    0.751     |   999.9    |\n",
      "| Refrigerador B |      0      |    0.635     |   849.0    |\n",
      "| Refrigerador C |      1      |     0.87     |  1199.89   |\n",
      "|    Celular     |      0      |   8.99e-05   |  2911.12   |\n",
      "|     TV 55      |      1      |     0.4      |  4346.99   |\n",
      "|     TV 50      |      0      |     0.29     |   3999.9   |\n",
      "|     TV 42      |      0      |     0.2      |   2999.0   |\n",
      "|   Ventilador   |      0      |    0.496     |   199.9    |\n",
      "|  Microondas A  |      0      |    0.0424    |   308.66   |\n",
      "|  Microondas B  |      0      |    0.0544    |   429.9    |\n",
      "|  Microondas C  |      0      |    0.0319    |   299.29   |\n",
      "|   Notebook A   |      0      |    0.0035    |   2499.9   |\n",
      "|   Notebook B   |      0      |    0.498     |   1999.9   |\n",
      "|   Notebook C   |      0      |    0.527     |   3999.0   |\n",
      "+----------------+-------------+--------------+------------+\n"
     ]
    }
   ],
   "source": [
    "from prettytable import PrettyTable\n",
    "\n",
    "# Crie uma tabela a partir do dicionário\n",
    "resultado_da_tabela_exemplo = PrettyTable(produtos_exemplo_print.keys())\n",
    "\n",
    "# Preencha a tabela com os dados do dicionário\n",
    "for i in range(len(produtos_exemplo_print['Produto'])):\n",
    "    resultado_da_tabela_exemplo.add_row([produtos_exemplo_print['Produto'][i], produtos_exemplo_print['Transportar'][i], produtos_exemplo_print['Volume (m^3)'][i], produtos_exemplo_print['Preço (R$)'][i]])\n",
    "\n",
    "# Imprima a tabela\n",
    "print(resultado_da_tabela_exemplo)\n"
   ]
  },
  {
   "cell_type": "code",
   "execution_count": 7,
   "metadata": {},
   "outputs": [],
   "source": [
    "from prettytable import PrettyTable\n",
    "\n",
    "def imprimir_resultados(melhor_solucao, melhor_custo, produtos):\n",
    "    # Crie uma tabela para mostrar os resultados\n",
    "    resultado_da_tabela = PrettyTable(['Produto', 'Transportar', 'Volume (m^3)', 'Preço (R$)'])\n",
    "\n",
    "    # Preencha a tabela com os produtos, a decisão de transportar (0 ou 1), volume e preço\n",
    "    for i in range(len(melhor_solucao)):\n",
    "        nome_produto = produtos[i][0]\n",
    "        transporte = melhor_solucao[i]\n",
    "        volume = produtos[i][1]\n",
    "        preco = produtos[i][2]\n",
    "        resultado_da_tabela.add_row([nome_produto, transporte, volume, preco])\n",
    "    print(resultado_da_tabela)\n",
    "    print(\"Melhor valor (lucro máximo):\", melhor_custo)\n",
    "    \n",
    "\n",
    "def imprimir_produtos_transportados(produtos, solucao):\n",
    "    resultado_da_tabela_produtos_transportados = PrettyTable(['Produto', 'Volume', 'Preço'])\n",
    "    for i in range(len(produtos)):\n",
    "        if solucao[i] == 0:\n",
    "            produto, volume, preco = produtos[i]\n",
    "            resultado_da_tabela_produtos_transportados.add_row([produto, volume, preco])\n",
    "    print(resultado_da_tabela_produtos_transportados)"
   ]
  },
  {
   "cell_type": "code",
   "execution_count": 8,
   "metadata": {},
   "outputs": [],
   "source": [
    "# Função de fitness\n",
    "def fitness_function(estado):\n",
    "    volume_total = 0\n",
    "    preco_total = 0\n",
    "\n",
    "    for i in range(len(estado)):\n",
    "        if estado[i] == 1:\n",
    "            volume_total += produtos[i][1]\n",
    "            preco_total += produtos[i][2]\n",
    "\n",
    "    if volume_total > capacidade_do_caminhao:\n",
    "        return 1  # Retorna 0 como fitness se exceder a capacidade do caminhão\n",
    "\n",
    "    return preco_total\n"
   ]
  },
  {
   "cell_type": "code",
   "execution_count": 9,
   "metadata": {},
   "outputs": [],
   "source": [
    "# Defina o problema de otimização como um problema de maximização\n",
    "fitness = mlrose.CustomFitness(fitness_function)"
   ]
  },
  {
   "cell_type": "code",
   "execution_count": 10,
   "metadata": {},
   "outputs": [],
   "source": [
    "# Defina o espaço de busca, onde cada elemento representa a escolha de transportar ou não cada produto (0 para não transportar, 1 para transportar)\n",
    "problem = mlrose.DiscreteOpt(length=num_produtos, fitness_fn=fitness, maximize=True, max_val=2)"
   ]
  },
  {
   "cell_type": "markdown",
   "metadata": {},
   "source": [
    "# Hill Climb"
   ]
  },
  {
   "cell_type": "code",
   "execution_count": 11,
   "metadata": {},
   "outputs": [],
   "source": [
    "# o parâmetro \"random_state\" representa como é gerado o estado inicial\n",
    "melhor_solucao, melhor_custo = mlrose.hill_climb(problem, random_state=1)\n",
    "melhor_custo_arredondado = round(melhor_custo, 2)"
   ]
  },
  {
   "cell_type": "code",
   "execution_count": 12,
   "metadata": {},
   "outputs": [
    {
     "name": "stdout",
     "output_type": "stream",
     "text": [
      "Melhor solução (0 para não transportar, 1 para transportar): [1 1 0 1 1 1 1 0 1 1 1 1 0 1]\n",
      "Melhor valor (lucro máximo): 23642.66\n"
     ]
    }
   ],
   "source": [
    "# Exiba os resultados\n",
    "print(\"Melhor solução (0 para não transportar, 1 para transportar):\", melhor_solucao)\n",
    "print(\"Melhor valor (lucro máximo):\", melhor_custo_arredondado)"
   ]
  },
  {
   "cell_type": "code",
   "execution_count": 13,
   "metadata": {},
   "outputs": [
    {
     "name": "stdout",
     "output_type": "stream",
     "text": [
      "+----------------+-------------+--------------+------------+\n",
      "|    Produto     | Transportar | Volume (m^3) | Preço (R$) |\n",
      "+----------------+-------------+--------------+------------+\n",
      "| Refrigerador A |      1      |    0.751     |   999.9    |\n",
      "| Refrigerador B |      1      |    0.635     |   849.0    |\n",
      "| Refrigerador C |      0      |     0.87     |  1199.89   |\n",
      "|    Celular     |      1      |   8.99e-05   |  2911.12   |\n",
      "|     TV 55      |      1      |     0.4      |  4346.99   |\n",
      "|     TV 50      |      1      |     0.29     |   3999.9   |\n",
      "|     TV 42      |      1      |     0.2      |   2999.0   |\n",
      "|   Ventilador   |      0      |    0.496     |   199.9    |\n",
      "|  Microondas A  |      1      |    0.0424    |   308.66   |\n",
      "|  Microondas B  |      1      |    0.0544    |   429.9    |\n",
      "|  Microondas C  |      1      |    0.0319    |   299.29   |\n",
      "|   Notebook A   |      1      |    0.0035    |   2499.9   |\n",
      "|   Notebook B   |      0      |    0.498     |   1999.9   |\n",
      "|   Notebook C   |      1      |    0.527     |   3999.0   |\n",
      "+----------------+-------------+--------------+------------+\n",
      "Melhor valor (lucro máximo): 23642.66\n"
     ]
    }
   ],
   "source": [
    "imprimir_resultados(melhor_solucao, melhor_custo_arredondado, produtos)"
   ]
  },
  {
   "cell_type": "code",
   "execution_count": 14,
   "metadata": {},
   "outputs": [
    {
     "name": "stdout",
     "output_type": "stream",
     "text": [
      "Produtos que serão transportados:\n",
      "+----------------+--------+---------+\n",
      "|    Produto     | Volume |  Preço  |\n",
      "+----------------+--------+---------+\n",
      "| Refrigerador C |  0.87  | 1199.89 |\n",
      "|   Ventilador   | 0.496  |  199.9  |\n",
      "|   Notebook B   | 0.498  |  1999.9 |\n",
      "+----------------+--------+---------+\n"
     ]
    }
   ],
   "source": [
    "print(\"Produtos que serão transportados:\")\n",
    "imprimir_produtos_transportados(produtos, melhor_solucao)"
   ]
  },
  {
   "cell_type": "markdown",
   "metadata": {},
   "source": [
    "# Simulated Annealing"
   ]
  },
  {
   "cell_type": "code",
   "execution_count": 15,
   "metadata": {},
   "outputs": [],
   "source": [
    "from mlrose.neural import GeomDecay\n",
    "melhor_solucao, melhor_custo = mlrose.simulated_annealing(problem, schedule=mlrose.GeomDecay(init_temp=1000000), random_state=1)\n",
    "melhor_custo_arredondado = round(melhor_custo, 2)"
   ]
  },
  {
   "cell_type": "code",
   "execution_count": 16,
   "metadata": {},
   "outputs": [
    {
     "name": "stdout",
     "output_type": "stream",
     "text": [
      "Melhor solução (0 para não transportar, 1 para transportar): [0 0 1 1 1 1 1 0 0 0 0 1 1 1]\n",
      "Melhor valor (lucro máximo): 23955.7\n"
     ]
    }
   ],
   "source": [
    "# Exiba os resultados\n",
    "print(\"Melhor solução (0 para não transportar, 1 para transportar):\", melhor_solucao)\n",
    "print(\"Melhor valor (lucro máximo):\", melhor_custo_arredondado)"
   ]
  },
  {
   "cell_type": "code",
   "execution_count": 17,
   "metadata": {},
   "outputs": [
    {
     "name": "stdout",
     "output_type": "stream",
     "text": [
      "+----------------+-------------+--------------+------------+\n",
      "|    Produto     | Transportar | Volume (m^3) | Preço (R$) |\n",
      "+----------------+-------------+--------------+------------+\n",
      "| Refrigerador A |      0      |    0.751     |   999.9    |\n",
      "| Refrigerador B |      0      |    0.635     |   849.0    |\n",
      "| Refrigerador C |      1      |     0.87     |  1199.89   |\n",
      "|    Celular     |      1      |   8.99e-05   |  2911.12   |\n",
      "|     TV 55      |      1      |     0.4      |  4346.99   |\n",
      "|     TV 50      |      1      |     0.29     |   3999.9   |\n",
      "|     TV 42      |      1      |     0.2      |   2999.0   |\n",
      "|   Ventilador   |      0      |    0.496     |   199.9    |\n",
      "|  Microondas A  |      0      |    0.0424    |   308.66   |\n",
      "|  Microondas B  |      0      |    0.0544    |   429.9    |\n",
      "|  Microondas C  |      0      |    0.0319    |   299.29   |\n",
      "|   Notebook A   |      1      |    0.0035    |   2499.9   |\n",
      "|   Notebook B   |      1      |    0.498     |   1999.9   |\n",
      "|   Notebook C   |      1      |    0.527     |   3999.0   |\n",
      "+----------------+-------------+--------------+------------+\n",
      "Melhor valor (lucro máximo): 23955.7\n"
     ]
    }
   ],
   "source": [
    "imprimir_resultados(melhor_solucao, melhor_custo_arredondado, produtos)"
   ]
  },
  {
   "cell_type": "code",
   "execution_count": 18,
   "metadata": {},
   "outputs": [
    {
     "name": "stdout",
     "output_type": "stream",
     "text": [
      "Produtos que serão transportados:\n",
      "+----------------+--------+--------+\n",
      "|    Produto     | Volume | Preço  |\n",
      "+----------------+--------+--------+\n",
      "| Refrigerador A | 0.751  | 999.9  |\n",
      "| Refrigerador B | 0.635  | 849.0  |\n",
      "|   Ventilador   | 0.496  | 199.9  |\n",
      "|  Microondas A  | 0.0424 | 308.66 |\n",
      "|  Microondas B  | 0.0544 | 429.9  |\n",
      "|  Microondas C  | 0.0319 | 299.29 |\n",
      "+----------------+--------+--------+\n"
     ]
    }
   ],
   "source": [
    "print(\"Produtos que serão transportados:\")\n",
    "imprimir_produtos_transportados(produtos, melhor_solucao)"
   ]
  },
  {
   "cell_type": "markdown",
   "metadata": {},
   "source": [
    "# Algoritmo Genético"
   ]
  },
  {
   "cell_type": "code",
   "execution_count": 19,
   "metadata": {},
   "outputs": [],
   "source": [
    "# Execute o algoritmo genético para encontrar a solução ótima\n",
    "melhor_solucao, melhor_custo = mlrose.genetic_alg(problem, mutation_prob=0.2, max_attempts=500, random_state=1)\n",
    "# Formate o melhor valor com duas casas decimais\n",
    "melhor_custo_arredondado = round(melhor_custo, 2)"
   ]
  },
  {
   "cell_type": "code",
   "execution_count": 20,
   "metadata": {},
   "outputs": [
    {
     "name": "stdout",
     "output_type": "stream",
     "text": [
      "Melhor solução (0 para não transportar, 1 para transportar): [0 0 1 1 1 1 1 0 1 1 1 1 1 1]\n",
      "Melhor valor (lucro máximo): 24993.55\n"
     ]
    }
   ],
   "source": [
    "# Exiba os resultados\n",
    "print(\"Melhor solução (0 para não transportar, 1 para transportar):\", melhor_solucao)\n",
    "print(\"Melhor valor (lucro máximo):\", melhor_custo_arredondado)"
   ]
  },
  {
   "cell_type": "code",
   "execution_count": 21,
   "metadata": {},
   "outputs": [
    {
     "name": "stdout",
     "output_type": "stream",
     "text": [
      "+----------------+-------------+--------------+------------+\n",
      "|    Produto     | Transportar | Volume (m^3) | Preço (R$) |\n",
      "+----------------+-------------+--------------+------------+\n",
      "| Refrigerador A |      0      |    0.751     |   999.9    |\n",
      "| Refrigerador B |      0      |    0.635     |   849.0    |\n",
      "| Refrigerador C |      1      |     0.87     |  1199.89   |\n",
      "|    Celular     |      1      |   8.99e-05   |  2911.12   |\n",
      "|     TV 55      |      1      |     0.4      |  4346.99   |\n",
      "|     TV 50      |      1      |     0.29     |   3999.9   |\n",
      "|     TV 42      |      1      |     0.2      |   2999.0   |\n",
      "|   Ventilador   |      0      |    0.496     |   199.9    |\n",
      "|  Microondas A  |      1      |    0.0424    |   308.66   |\n",
      "|  Microondas B  |      1      |    0.0544    |   429.9    |\n",
      "|  Microondas C  |      1      |    0.0319    |   299.29   |\n",
      "|   Notebook A   |      1      |    0.0035    |   2499.9   |\n",
      "|   Notebook B   |      1      |    0.498     |   1999.9   |\n",
      "|   Notebook C   |      1      |    0.527     |   3999.0   |\n",
      "+----------------+-------------+--------------+------------+\n",
      "Melhor valor (lucro máximo): 24993.55\n"
     ]
    }
   ],
   "source": [
    "imprimir_resultados(melhor_solucao, melhor_custo_arredondado, produtos)"
   ]
  },
  {
   "cell_type": "code",
   "execution_count": 22,
   "metadata": {},
   "outputs": [
    {
     "name": "stdout",
     "output_type": "stream",
     "text": [
      "Produtos que serão transportados:\n",
      "+----------------+--------+-------+\n",
      "|    Produto     | Volume | Preço |\n",
      "+----------------+--------+-------+\n",
      "| Refrigerador A | 0.751  | 999.9 |\n",
      "| Refrigerador B | 0.635  | 849.0 |\n",
      "|   Ventilador   | 0.496  | 199.9 |\n",
      "+----------------+--------+-------+\n"
     ]
    }
   ],
   "source": [
    "print(\"Produtos que serão transportados:\")\n",
    "imprimir_produtos_transportados(produtos, melhor_solucao)"
   ]
  }
 ],
 "metadata": {
  "kernelspec": {
   "display_name": "Python 3",
   "language": "python",
   "name": "python3"
  },
  "language_info": {
   "codemirror_mode": {
    "name": "ipython",
    "version": 3
   },
   "file_extension": ".py",
   "mimetype": "text/x-python",
   "name": "python",
   "nbconvert_exporter": "python",
   "pygments_lexer": "ipython3",
   "version": "3.11.4"
  },
  "orig_nbformat": 4
 },
 "nbformat": 4,
 "nbformat_minor": 2
}
